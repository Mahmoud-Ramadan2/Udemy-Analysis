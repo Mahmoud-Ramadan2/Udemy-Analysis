{
 "cells": [
  {
   "cell_type": "markdown",
   "id": "d67e4920-cf08-4766-bca3-ce037e61b030",
   "metadata": {},
   "source": [
    "# Udemy EDA (Exprolring Data Analysis)"
   ]
  },
  {
   "cell_type": "markdown",
   "id": "a3ca9254-d324-4b13-a12a-6a9a5a784e3a",
   "metadata": {},
   "source": [
    "### Import libraries "
   ]
  },
  {
   "cell_type": "code",
   "execution_count": 2,
   "id": "a40537b4-b288-4312-93ef-c678700c187f",
   "metadata": {},
   "outputs": [],
   "source": [
    "import numpy as na\n",
    "import pandas as pd\n",
    "import matplotlib.pyplot as plt\n",
    "import seaborn as sns\n",
    "import plotly.express as px"
   ]
  },
  {
   "cell_type": "markdown",
   "id": "540f8eca-01ce-4248-8257-509cd67aaff8",
   "metadata": {},
   "source": [
    "### Types of EDA\n",
    "#### univariate analysis\n",
    "#### bi- variate analysis\n",
    "#### multi-variate analysis"
   ]
  },
  {
   "cell_type": "markdown",
   "id": "93f0ee81-9084-471e-b252-66b2285629c0",
   "metadata": {},
   "source": [
    "### Load Data"
   ]
  },
  {
   "cell_type": "code",
   "execution_count": null,
   "id": "f6550e75-1dc3-4b60-ad84-561e391da99b",
   "metadata": {},
   "outputs": [],
   "source": [
    "df = pd.read_csv('')"
   ]
  }
 ],
 "metadata": {
  "kernelspec": {
   "display_name": "Python [conda env:base] *",
   "language": "python",
   "name": "conda-base-py"
  },
  "language_info": {
   "codemirror_mode": {
    "name": "ipython",
    "version": 3
   },
   "file_extension": ".py",
   "mimetype": "text/x-python",
   "name": "python",
   "nbconvert_exporter": "python",
   "pygments_lexer": "ipython3",
   "version": "3.12.7"
  }
 },
 "nbformat": 4,
 "nbformat_minor": 5
}
